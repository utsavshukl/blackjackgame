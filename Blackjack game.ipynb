{
 "cells": [
  {
   "cell_type": "code",
   "execution_count": 1,
   "metadata": {},
   "outputs": [],
   "source": [
    "import random\n",
    "suits = ('Hearts', 'Diamonds', 'Spades', 'Clubs')\n",
    "ranks = ('Two', 'Three', 'Four', 'Five', 'Six', 'Seven', 'Eight', 'Nine', 'Ten', 'Jack', 'Queen', 'King', 'Ace')\n",
    "values = {'Two':2, 'Three':3, 'Four':4, 'Five':5, 'Six':6, 'Seven':7, 'Eight':8, 'Nine':9, 'Ten':10, 'Jack':10,\n",
    "         'Queen':10, 'King':10, 'Ace':11}\n",
    "playing = True"
   ]
  },
  {
   "cell_type": "code",
   "execution_count": 2,
   "metadata": {},
   "outputs": [],
   "source": [
    "class Card():\n",
    "    def __init__(self,suit,rank):\n",
    "        self.suit = suit\n",
    "        self.rank = rank\n",
    "    def __str__(self):\n",
    "        return self.rank + ' of ' + self.suit"
   ]
  },
  {
   "cell_type": "code",
   "execution_count": 3,
   "metadata": {},
   "outputs": [],
   "source": [
    "class Deck():\n",
    "    def __init__(self):\n",
    "        self.deck = []\n",
    "        for s in suits:\n",
    "            for r in ranks:\n",
    "                self.deck.append(Card(s,r))\n",
    "    def __str__(self):\n",
    "        deck_comp = ''  \n",
    "        for card in self.deck:\n",
    "            deck_comp += '\\n '+card.__str__() \n",
    "        return 'The deck has:' + deck_comp\n",
    "    def shuffle(self):\n",
    "        random.shuffle(self.deck)\n",
    "    def deal(self):\n",
    "        single_card = self.deck.pop(0)\n",
    "        return single_card\n",
    "        "
   ]
  },
  {
   "cell_type": "code",
   "execution_count": 4,
   "metadata": {},
   "outputs": [],
   "source": [
    "class Hand():\n",
    "    def __init__(self):\n",
    "        self.cards = []\n",
    "        self.value = 0\n",
    "        self.aces = 0\n",
    "    def add_card(self,card):\n",
    "        self.cards.append(card) #taking in a card object\n",
    "        self.value += values[card.rank] #adding to the total value of the hand\n",
    "        if card.rank == 'Ace':\n",
    "            self.aces += 1\n",
    "    def adjust_for_ace(self):\n",
    "        while self.value > 21 and self.aces > 0:\n",
    "            self.value -= 10\n",
    "            self.aces -= 1"
   ]
  },
  {
   "cell_type": "code",
   "execution_count": 5,
   "metadata": {},
   "outputs": [],
   "source": [
    "class Chips():\n",
    "    def __init__(self,total = 100):\n",
    "        self.total = total\n",
    "        self.bet = 0\n",
    "    def win_bet(self):\n",
    "        self.total += self.bet\n",
    "    def lose_bet(self):\n",
    "        self.total -= self.bet\n",
    "    "
   ]
  },
  {
   "cell_type": "code",
   "execution_count": 6,
   "metadata": {},
   "outputs": [],
   "source": [
    "def take_bet(chips):\n",
    "    while True:\n",
    "        try:\n",
    "            chips.bet = int(input('How many chips would you like to bet? '))\n",
    "        except:\n",
    "            print('Sorry! Please provide an integer')\n",
    "        else:\n",
    "            if chips.bet > chips.total:\n",
    "                    print('Sorry, you don not have enough chips.\\nYou have {}.'.format(chips.total))\n",
    "            else:\n",
    "                break"
   ]
  },
  {
   "cell_type": "code",
   "execution_count": 7,
   "metadata": {},
   "outputs": [],
   "source": [
    "def hit(deck,hand):\n",
    "    single_card = deck.deal()\n",
    "    hand.add_card(single_card)\n",
    "    hand.adjust_for_ace()"
   ]
  },
  {
   "cell_type": "code",
   "execution_count": 8,
   "metadata": {},
   "outputs": [],
   "source": [
    "def hit_or_stand(deck,hand):\n",
    "    global playing\n",
    "    while True:\n",
    "        x = input('Hit or stand?\\nEnter h or s.')\n",
    "        if x[0].lower == 'h':\n",
    "            hit(deck,hand)\n",
    "        elif x[0] == 's':\n",
    "            print('Player stands, dealers turn')\n",
    "            playing = False\n",
    "        else:\n",
    "            print('Sorry, I did not understand.\\nPlease enter h or s only.')\n",
    "            continue\n",
    "    \n",
    "        break"
   ]
  },
  {
   "cell_type": "code",
   "execution_count": 9,
   "metadata": {},
   "outputs": [],
   "source": [
    "def show_some(player,dealer):\n",
    "    print('\\nDealers hand: ')\n",
    "    print('First card hidden.')\n",
    "    print(dealer.cards[1])\n",
    "    \n",
    "    print('\\nPlayers hand: ')\n",
    "    for c in player.cards:\n",
    "        print(c)\n",
    "        \n",
    "def show_all(player,dealer):\n",
    "    \n",
    "    print('Dealers hand: ')\n",
    "    for c in dealer.cards:\n",
    "        print(c)\n",
    "    print(f'Value of dealers hand is {dealer.value}')\n",
    "    \n",
    "    \n",
    "    print('Players hand: ')\n",
    "    for c in player.cards:\n",
    "        print(c)\n",
    "    print(f'Value of players hand is {player.value}')\n",
    "    \n",
    "    "
   ]
  },
  {
   "cell_type": "code",
   "execution_count": 10,
   "metadata": {},
   "outputs": [],
   "source": [
    "def player_busts(player,dealer,chips):\n",
    "    print('Bust player!')\n",
    "    chips.lose_bet()\n",
    "\n",
    "def player_wins(player,dealer,chips):\n",
    "    print('Player wins!')\n",
    "    chips.win_bet()\n",
    "    \n",
    "def dealer_busts(player,dealer,chips):\n",
    "    print('Player wins! Dealer busted.')\n",
    "    chips.win_bet()\n",
    "    \n",
    "def dealer_wins(player,dealer,chips):\n",
    "    print('Dealer wins!')\n",
    "    chips.lose_bet()\n",
    "    \n",
    "    \n",
    "def push(player,dealer):\n",
    "    print('Dealer and player tie!\\nPUSH!')\n",
    "    "
   ]
  },
  {
   "cell_type": "code",
   "execution_count": 11,
   "metadata": {},
   "outputs": [
    {
     "name": "stdout",
     "output_type": "stream",
     "text": [
      "WELCOME TO BLACKJACK!\n",
      "How many chips would you like to bet? \n",
      "Sorry! Please provide an integer\n",
      "How many chips would you like to bet? 300\n",
      "Sorry, you don not have enough chips.\n",
      "You have 100.\n",
      "How many chips would you like to bet? 40\n",
      "\n",
      "Dealers hand: \n",
      "First card hidden.\n",
      "Five of Hearts\n",
      "\n",
      "Players hand: \n",
      "Six of Clubs\n",
      "Ace of Clubs\n",
      "Hit or stand?\n",
      "Enter h or s.h\n",
      "Sorry, I did not understand.\n",
      "Please enter h or s only.\n",
      "Hit or stand?\n",
      "Enter h or s.s\n",
      "Player stands, dealers turn\n",
      "\n",
      "Dealers hand: \n",
      "First card hidden.\n",
      "Ace of Clubs\n",
      "\n",
      "Players hand: \n"
     ]
    },
    {
     "ename": "AttributeError",
     "evalue": "'Deck' object has no attribute 'cards'",
     "output_type": "error",
     "traceback": [
      "\u001b[1;31m---------------------------------------------------------------------------\u001b[0m",
      "\u001b[1;31mAttributeError\u001b[0m                            Traceback (most recent call last)",
      "\u001b[1;32m<ipython-input-11-01453c5c2996>\u001b[0m in \u001b[0;36m<module>\u001b[1;34m\u001b[0m\n\u001b[0;32m     20\u001b[0m         \u001b[0mhit_or_stand\u001b[0m\u001b[1;33m(\u001b[0m\u001b[0mdeck\u001b[0m\u001b[1;33m,\u001b[0m\u001b[0mplayer_hand\u001b[0m\u001b[1;33m)\u001b[0m\u001b[1;33m\u001b[0m\u001b[1;33m\u001b[0m\u001b[0m\n\u001b[0;32m     21\u001b[0m \u001b[1;33m\u001b[0m\u001b[0m\n\u001b[1;32m---> 22\u001b[1;33m         \u001b[0mshow_some\u001b[0m\u001b[1;33m(\u001b[0m\u001b[0mdeck\u001b[0m\u001b[1;33m,\u001b[0m\u001b[0mplayer_hand\u001b[0m\u001b[1;33m)\u001b[0m\u001b[1;33m\u001b[0m\u001b[1;33m\u001b[0m\u001b[0m\n\u001b[0m\u001b[0;32m     23\u001b[0m \u001b[1;33m\u001b[0m\u001b[0m\n\u001b[0;32m     24\u001b[0m         \u001b[1;32mif\u001b[0m \u001b[0mplayer_hand\u001b[0m\u001b[1;33m.\u001b[0m\u001b[0mvalue\u001b[0m \u001b[1;33m>\u001b[0m \u001b[1;36m21\u001b[0m\u001b[1;33m:\u001b[0m\u001b[1;33m\u001b[0m\u001b[1;33m\u001b[0m\u001b[0m\n",
      "\u001b[1;32m<ipython-input-9-befc6cb8fb56>\u001b[0m in \u001b[0;36mshow_some\u001b[1;34m(player, dealer)\u001b[0m\n\u001b[0;32m      5\u001b[0m \u001b[1;33m\u001b[0m\u001b[0m\n\u001b[0;32m      6\u001b[0m     \u001b[0mprint\u001b[0m\u001b[1;33m(\u001b[0m\u001b[1;34m'\\nPlayers hand: '\u001b[0m\u001b[1;33m)\u001b[0m\u001b[1;33m\u001b[0m\u001b[1;33m\u001b[0m\u001b[0m\n\u001b[1;32m----> 7\u001b[1;33m     \u001b[1;32mfor\u001b[0m \u001b[0mc\u001b[0m \u001b[1;32min\u001b[0m \u001b[0mplayer\u001b[0m\u001b[1;33m.\u001b[0m\u001b[0mcards\u001b[0m\u001b[1;33m:\u001b[0m\u001b[1;33m\u001b[0m\u001b[1;33m\u001b[0m\u001b[0m\n\u001b[0m\u001b[0;32m      8\u001b[0m         \u001b[0mprint\u001b[0m\u001b[1;33m(\u001b[0m\u001b[0mc\u001b[0m\u001b[1;33m)\u001b[0m\u001b[1;33m\u001b[0m\u001b[1;33m\u001b[0m\u001b[0m\n\u001b[0;32m      9\u001b[0m \u001b[1;33m\u001b[0m\u001b[0m\n",
      "\u001b[1;31mAttributeError\u001b[0m: 'Deck' object has no attribute 'cards'"
     ]
    }
   ],
   "source": [
    "while True:\n",
    "    print('WELCOME TO BLACKJACK!')\n",
    "    deck = Deck()\n",
    "    deck.shuffle()\n",
    "   \n",
    "    player_hand = Hand()\n",
    "    player_hand.add_card(deck.deal())\n",
    "    player_hand.add_card(deck.deal())\n",
    "    \n",
    "    dealer_hand = Hand()\n",
    "    dealer_hand.add_card(deck.deal())\n",
    "    dealer_hand.add_card(deck.deal())\n",
    "    \n",
    "    player_chips = Chips()\n",
    "    take_bet(player_chips)\n",
    "    \n",
    "    show_some(player_hand,dealer_hand)\n",
    "    \n",
    "    while playing:\n",
    "        hit_or_stand(deck,player_hand)\n",
    "        \n",
    "        show_some(deck,player_hand)\n",
    "        \n",
    "        if player_hand.value > 21:\n",
    "            player_busts(player_hand,dealer_hand,player_chips)\n",
    "            break\n",
    "            \n",
    "    if player_hand.value <= 21:\n",
    "        while dealer_hand.value < 17:\n",
    "            hit(deck,dealer_hand)\n",
    "        \n",
    "        show_all(player_hand,dealer_hand)\n",
    "        \n",
    "        if dealer_hand.value > 21:\n",
    "            dealer_busts(player_hand,dealer_hand,player_chips)\n",
    "        elif dealer_hand.value > player_hand.value:\n",
    "            dealer_wins(player_hand,dealer_hand,player_chips)\n",
    "        elif dealer_hand.value < player_hand.value:\n",
    "            player_wins(player_hand,dealer_hand,player_chips)\n",
    "        else:\n",
    "            push(player_hand,dealer_hand)\n",
    "            \n",
    "    print('\\nPlayers total remaining chips are at: {}'.format(player_chips.total))\n",
    "    \n",
    "    ng = input('Would you like to play another hand?\\nEnter Y or N')\n",
    "    if ng == 'Y':\n",
    "        playing = True\n",
    "        continue\n",
    "    else:\n",
    "        print('Thank you for playing!')\n",
    "        break\n",
    "        \n",
    "    \n",
    "            \n",
    "            \n",
    "            "
   ]
  },
  {
   "cell_type": "code",
   "execution_count": null,
   "metadata": {},
   "outputs": [],
   "source": []
  },
  {
   "cell_type": "code",
   "execution_count": null,
   "metadata": {},
   "outputs": [],
   "source": []
  }
 ],
 "metadata": {
  "kernelspec": {
   "display_name": "Python 3",
   "language": "python",
   "name": "python3"
  },
  "language_info": {
   "codemirror_mode": {
    "name": "ipython",
    "version": 3
   },
   "file_extension": ".py",
   "mimetype": "text/x-python",
   "name": "python",
   "nbconvert_exporter": "python",
   "pygments_lexer": "ipython3",
   "version": "3.8.5"
  }
 },
 "nbformat": 4,
 "nbformat_minor": 4
}
